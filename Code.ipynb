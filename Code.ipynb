{
 "cells": [
  {
   "cell_type": "markdown",
   "id": "35d6e05b",
   "metadata": {},
   "source": [
    "# 🚨 Customer Sentiment Alert (CSA Agent) Demo in Colab\n"
   ]
  },
  {
   "cell_type": "code",
   "execution_count": null,
   "id": "75cb1a91",
   "metadata": {},
   "outputs": [],
   "source": [
    "# Step 1: Install dependencies\n",
    "!pip install transformers scikit-learn"
   ]
  },
  {
   "cell_type": "code",
   "execution_count": null,
   "id": "36beb4fd",
   "metadata": {},
   "outputs": [],
   "source": [
    "# Step 2: Full CSA Agent code\n",
    "from transformers import pipeline\n",
    "import math\n",
    "\n",
    "# Initialize Sentiment Pipeline\n",
    "sentiment_pipeline = pipeline('sentiment-analysis')\n",
    "\n",
    "# Functions\n",
    "def analyze_sentiment(text):\n",
    "    res = sentiment_pipeline(text)[0]\n",
    "    return {'label': res['label'], 'score': float(res['score'])}\n",
    "\n",
    "def urgency_score(sentiment, reach=1, is_mention=False):\n",
    "    label = sentiment.get('label', 'NEUTRAL').upper()\n",
    "    score = sentiment.get('score', 0.0)\n",
    "    base = 0.0\n",
    "    if label in ('NEGATIVE','LABEL_0','NEG'):\n",
    "        base = 0.6 + 0.4*score\n",
    "    elif label in ('POSITIVE','LABEL_1','POS'):\n",
    "        base = 0.1*score\n",
    "    else:\n",
    "        base = 0.2\n",
    "    reach_factor = math.log1p(reach)/10.0\n",
    "    mention_factor = 0.15 if is_mention else 0.0\n",
    "    urgency = min(1.0, base + reach_factor + mention_factor)\n",
    "    return round(urgency,3)\n",
    "\n",
    "# Sample Feedbacks\n",
    "feedbacks = [\n",
    "    {'text':'I love the product, it\\'s amazing!','reach':10,'is_mention':False},\n",
    "    {'text':'This is terrible, I hate the service.','reach':150,'is_mention':True},\n",
    "    {'text':'The app is okay, but it could be faster.','reach':50,'is_mention':False},\n",
    "    {'text':'Support never responded to my issue, very disappointed!','reach':200,'is_mention':True},\n",
    "]\n",
    "\n",
    "# Run Demo\n",
    "print('🚨 Customer Sentiment Alert Demo\\n')\n",
    "for fb in feedbacks:\n",
    "    sentiment = analyze_sentiment(fb['text'])\n",
    "    urgency = urgency_score(sentiment, reach=fb['reach'], is_mention=fb['is_mention'])\n",
    "    print(f\"Feedback: {fb['text']}\")\n",
    "    print(f\"Sentiment: {sentiment}\")\n",
    "    print(f\"Urgency Score: {urgency}\\n\")\n"
   ]
  }
 ],
 "metadata": {},
 "nbformat": 4,
 "nbformat_minor": 5
}

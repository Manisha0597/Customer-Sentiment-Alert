{
  "cells": [
    {
      "cell_type": "markdown",
      "id": "35d6e05b",
      "metadata": {
        "id": "35d6e05b"
      },
      "source": [
        "# 🚨 Customer Sentiment Alert (CSA Agent)\n"
      ]
    },
    {
      "cell_type": "code",
      "execution_count": 1,
      "id": "75cb1a91",
      "metadata": {
        "id": "75cb1a91",
        "outputId": "d2fe9c17-e89a-42e4-b5b6-2504174969e8",
        "colab": {
          "base_uri": "https://localhost:8080/"
        }
      },
      "outputs": [
        {
          "output_type": "stream",
          "name": "stdout",
          "text": [
            "Requirement already satisfied: transformers in /usr/local/lib/python3.12/dist-packages (4.56.1)\n",
            "Requirement already satisfied: scikit-learn in /usr/local/lib/python3.12/dist-packages (1.6.1)\n",
            "Requirement already satisfied: filelock in /usr/local/lib/python3.12/dist-packages (from transformers) (3.19.1)\n",
            "Requirement already satisfied: huggingface-hub<1.0,>=0.34.0 in /usr/local/lib/python3.12/dist-packages (from transformers) (0.35.0)\n",
            "Requirement already satisfied: numpy>=1.17 in /usr/local/lib/python3.12/dist-packages (from transformers) (2.0.2)\n",
            "Requirement already satisfied: packaging>=20.0 in /usr/local/lib/python3.12/dist-packages (from transformers) (25.0)\n",
            "Requirement already satisfied: pyyaml>=5.1 in /usr/local/lib/python3.12/dist-packages (from transformers) (6.0.2)\n",
            "Requirement already satisfied: regex!=2019.12.17 in /usr/local/lib/python3.12/dist-packages (from transformers) (2024.11.6)\n",
            "Requirement already satisfied: requests in /usr/local/lib/python3.12/dist-packages (from transformers) (2.32.4)\n",
            "Requirement already satisfied: tokenizers<=0.23.0,>=0.22.0 in /usr/local/lib/python3.12/dist-packages (from transformers) (0.22.0)\n",
            "Requirement already satisfied: safetensors>=0.4.3 in /usr/local/lib/python3.12/dist-packages (from transformers) (0.6.2)\n",
            "Requirement already satisfied: tqdm>=4.27 in /usr/local/lib/python3.12/dist-packages (from transformers) (4.67.1)\n",
            "Requirement already satisfied: scipy>=1.6.0 in /usr/local/lib/python3.12/dist-packages (from scikit-learn) (1.16.2)\n",
            "Requirement already satisfied: joblib>=1.2.0 in /usr/local/lib/python3.12/dist-packages (from scikit-learn) (1.5.2)\n",
            "Requirement already satisfied: threadpoolctl>=3.1.0 in /usr/local/lib/python3.12/dist-packages (from scikit-learn) (3.6.0)\n",
            "Requirement already satisfied: fsspec>=2023.5.0 in /usr/local/lib/python3.12/dist-packages (from huggingface-hub<1.0,>=0.34.0->transformers) (2025.3.0)\n",
            "Requirement already satisfied: typing-extensions>=3.7.4.3 in /usr/local/lib/python3.12/dist-packages (from huggingface-hub<1.0,>=0.34.0->transformers) (4.15.0)\n",
            "Requirement already satisfied: hf-xet<2.0.0,>=1.1.3 in /usr/local/lib/python3.12/dist-packages (from huggingface-hub<1.0,>=0.34.0->transformers) (1.1.10)\n",
            "Requirement already satisfied: charset_normalizer<4,>=2 in /usr/local/lib/python3.12/dist-packages (from requests->transformers) (3.4.3)\n",
            "Requirement already satisfied: idna<4,>=2.5 in /usr/local/lib/python3.12/dist-packages (from requests->transformers) (3.10)\n",
            "Requirement already satisfied: urllib3<3,>=1.21.1 in /usr/local/lib/python3.12/dist-packages (from requests->transformers) (2.5.0)\n",
            "Requirement already satisfied: certifi>=2017.4.17 in /usr/local/lib/python3.12/dist-packages (from requests->transformers) (2025.8.3)\n"
          ]
        }
      ],
      "source": [
        "# Step 1: Install dependencies\n",
        "!pip install transformers scikit-learn"
      ]
    },
    {
      "cell_type": "code",
      "execution_count": 3,
      "id": "36beb4fd",
      "metadata": {
        "id": "36beb4fd",
        "outputId": "779d485f-d4b2-4ca2-b24f-a39d312d921d",
        "colab": {
          "base_uri": "https://localhost:8080/"
        }
      },
      "outputs": [
        {
          "output_type": "stream",
          "name": "stderr",
          "text": [
            "No model was supplied, defaulted to distilbert/distilbert-base-uncased-finetuned-sst-2-english and revision 714eb0f (https://huggingface.co/distilbert/distilbert-base-uncased-finetuned-sst-2-english).\n",
            "Using a pipeline without specifying a model name and revision in production is not recommended.\n",
            "Device set to use cpu\n"
          ]
        },
        {
          "output_type": "stream",
          "name": "stdout",
          "text": [
            "🚨 Customer Sentiment Alert\n",
            "\n",
            "Feedback: I love the product, it's amazing!\n",
            "Sentiment: {'label': 'POSITIVE', 'score': 0.9998868703842163}\n",
            "Urgency Score: 0.34\n",
            "\n",
            "Feedback: This is terrible, I hate the service.\n",
            "Sentiment: {'label': 'NEGATIVE', 'score': 0.9996768236160278}\n",
            "Urgency Score: 1.0\n",
            "\n",
            "Feedback: The app is okay, but it could be faster.\n",
            "Sentiment: {'label': 'NEGATIVE', 'score': 0.7721087336540222}\n",
            "Urgency Score: 1.0\n",
            "\n",
            "Feedback: Support never responded to my issue, very disappointed!\n",
            "Sentiment: {'label': 'NEGATIVE', 'score': 0.9987133741378784}\n",
            "Urgency Score: 1.0\n",
            "\n"
          ]
        }
      ],
      "source": [
        "# Step 2: Full CSA Agent code\n",
        "from transformers import pipeline\n",
        "import math\n",
        "\n",
        "# Initialize Sentiment Pipeline\n",
        "sentiment_pipeline = pipeline('sentiment-analysis')\n",
        "\n",
        "# Functions\n",
        "def analyze_sentiment(text):\n",
        "    res = sentiment_pipeline(text)[0]\n",
        "    return {'label': res['label'], 'score': float(res['score'])}\n",
        "\n",
        "def urgency_score(sentiment, reach=1, is_mention=False):\n",
        "    label = sentiment.get('label', 'NEUTRAL').upper()\n",
        "    score = sentiment.get('score', 0.0)\n",
        "    base = 0.0\n",
        "    if label in ('NEGATIVE','LABEL_0','NEG'):\n",
        "        base = 0.6 + 0.4*score\n",
        "    elif label in ('POSITIVE','LABEL_1','POS'):\n",
        "        base = 0.1*score\n",
        "    else:\n",
        "        base = 0.2\n",
        "    reach_factor = math.log1p(reach)/10.0\n",
        "    mention_factor = 0.15 if is_mention else 0.0\n",
        "    urgency = min(1.0, base + reach_factor + mention_factor)\n",
        "    return round(urgency,3)\n",
        "\n",
        "# Sample Feedbacks\n",
        "feedbacks = [\n",
        "    {'text':'I love the product, it\\'s amazing!','reach':10,'is_mention':False},\n",
        "    {'text':'This is terrible, I hate the service.','reach':150,'is_mention':True},\n",
        "    {'text':'The app is okay, but it could be faster.','reach':50,'is_mention':False},\n",
        "    {'text':'Support never responded to my issue, very disappointed!','reach':200,'is_mention':True},\n",
        "]\n",
        "\n",
        "# Run Demo\n",
        "print('🚨 Customer Sentiment Alert\\n')\n",
        "for fb in feedbacks:\n",
        "    sentiment = analyze_sentiment(fb['text'])\n",
        "    urgency = urgency_score(sentiment, reach=fb['reach'], is_mention=fb['is_mention'])\n",
        "    print(f\"Feedback: {fb['text']}\")\n",
        "    print(f\"Sentiment: {sentiment}\")\n",
        "    print(f\"Urgency Score: {urgency}\\n\")\n"
      ]
    }
  ],
  "metadata": {
    "colab": {
      "provenance": []
    },
    "language_info": {
      "name": "python"
    },
    "kernelspec": {
      "name": "python3",
      "display_name": "Python 3"
    }
  },
  "nbformat": 4,
  "nbformat_minor": 5
}
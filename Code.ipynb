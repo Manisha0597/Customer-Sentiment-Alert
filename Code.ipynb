{
  "cells": [
    {
      "cell_type": "markdown",
      "metadata": {
        "id": "view-in-github",
        "colab_type": "text"
      },
      "source": [
        "<a href=\"https://colab.research.google.com/github/Manisha0597/Customer-Sentiment-Alert/blob/main/Code.ipynb\" target=\"_parent\"><img src=\"https://colab.research.google.com/assets/colab-badge.svg\" alt=\"Open In Colab\"/></a>"
      ]
    },
    {
      "cell_type": "markdown",
      "id": "35d6e05b",
      "metadata": {
        "id": "35d6e05b"
      },
      "source": [
        "# 🚨 Customer Sentiment Alert (CSA Agent)\n"
      ]
    },
    {
      "cell_type": "code",
      "execution_count": null,
      "id": "75cb1a91",
      "metadata": {
        "id": "75cb1a91"
      },
      "outputs": [],
      "source": [
        "# Step 1: Install dependencies\n",
        "!pip install transformers scikit-learn"
      ]
    },
    {
      "cell_type": "code",
      "execution_count": null,
      "id": "36beb4fd",
      "metadata": {
        "id": "36beb4fd"
      },
      "outputs": [],
      "source": [
        "# Step 2: Full CSA Agent code\n",
        "from transformers import pipeline\n",
        "import math\n",
        "\n",
        "# Initialize Sentiment Pipeline\n",
        "sentiment_pipeline = pipeline('sentiment-analysis')\n",
        "\n",
        "# Functions\n",
        "def analyze_sentiment(text):\n",
        "    res = sentiment_pipeline(text)[0]\n",
        "    return {'label': res['label'], 'score': float(res['score'])}\n",
        "\n",
        "def urgency_score(sentiment, reach=1, is_mention=False):\n",
        "    label = sentiment.get('label', 'NEUTRAL').upper()\n",
        "    score = sentiment.get('score', 0.0)\n",
        "    base = 0.0\n",
        "    if label in ('NEGATIVE','LABEL_0','NEG'):\n",
        "        base = 0.6 + 0.4*score\n",
        "    elif label in ('POSITIVE','LABEL_1','POS'):\n",
        "        base = 0.1*score\n",
        "    else:\n",
        "        base = 0.2\n",
        "    reach_factor = math.log1p(reach)/10.0\n",
        "    mention_factor = 0.15 if is_mention else 0.0\n",
        "    urgency = min(1.0, base + reach_factor + mention_factor)\n",
        "    return round(urgency,3)\n",
        "\n",
        "# Sample Feedbacks\n",
        "feedbacks = [\n",
        "    {'text':'I love the product, it\\'s amazing!','reach':10,'is_mention':False},\n",
        "    {'text':'This is terrible, I hate the service.','reach':150,'is_mention':True},\n",
        "    {'text':'The app is okay, but it could be faster.','reach':50,'is_mention':False},\n",
        "    {'text':'Support never responded to my issue, very disappointed!','reach':200,'is_mention':True},\n",
        "]\n",
        "\n",
        "# Run Demo\n",
        "print('🚨 Customer Sentiment Alert\\n')\n",
        "for fb in feedbacks:\n",
        "    sentiment = analyze_sentiment(fb['text'])\n",
        "    urgency = urgency_score(sentiment, reach=fb['reach'], is_mention=fb['is_mention'])\n",
        "    print(f\"Feedback: {fb['text']}\")\n",
        "    print(f\"Sentiment: {sentiment}\")\n",
        "    print(f\"Urgency Score: {urgency}\\n\")\n"
      ]
    },
    {
      "cell_type": "markdown",
      "source": [
        "# Visualization\n"
      ],
      "metadata": {
        "id": "7dgUgK0PMG2Y"
      },
      "id": "7dgUgK0PMG2Y"
    },
    {
      "cell_type": "code",
      "source": [
        "# Step 3: Visualize Results\n",
        "import pandas as pd\n",
        "import matplotlib.pyplot as plt\n",
        "\n",
        "# Prepare data\n",
        "data = []\n",
        "for fb in feedbacks:\n",
        "    sentiment = analyze_sentiment(fb['text'])\n",
        "    urgency = urgency_score(sentiment, reach=fb['reach'], is_mention=fb['is_mention'])\n",
        "    data.append({\n",
        "        \"Feedback\": fb['text'],\n",
        "        \"Sentiment\": sentiment['label'],\n",
        "        \"Urgency Score\": urgency\n",
        "    })\n",
        "\n",
        "df = pd.DataFrame(data)\n",
        "\n",
        "# Display Table\n",
        "print(\"### 🚨 Customer Sentiment Alert Results Table\")\n",
        "display(df)\n",
        "\n",
        "# Bar Chart\n",
        "plt.figure(figsize=(10,5))\n",
        "plt.barh(df['Feedback'], df['Urgency Score'], color='tomato')\n",
        "plt.xlabel('Urgency Score')\n",
        "plt.title('🚨 Customer Sentiment Alert - Urgency Score for Feedbacks')\n",
        "plt.xlim(0,1.0)\n",
        "plt.show()\n"
      ],
      "metadata": {
        "id": "9ylJx0hYMUab"
      },
      "id": "9ylJx0hYMUab",
      "execution_count": null,
      "outputs": []
    }
  ],
  "metadata": {
    "colab": {
      "provenance": [],
      "include_colab_link": true
    },
    "language_info": {
      "name": "python"
    },
    "kernelspec": {
      "name": "python3",
      "display_name": "Python 3"
    }
  },
  "nbformat": 4,
  "nbformat_minor": 5
}